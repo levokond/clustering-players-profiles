{
 "cells": [
  {
   "cell_type": "code",
   "execution_count": 4,
   "metadata": {},
   "outputs": [
    {
     "name": "stdout",
     "output_type": "stream",
     "text": [
      "Fetching Premier League [standard] stats...\n"
     ]
    },
    {
     "name": "stderr",
     "output_type": "stream",
     "text": [
      "/var/folders/mp/l7pc43ln25l8vb_t3fc17rlm0000gn/T/ipykernel_61658/2025400879.py:109: FutureWarning: Passing literal html to 'read_html' is deprecated and will be removed in a future version. To read from a literal string, wrap it in a 'StringIO' object.\n",
      "  df = pd.read_html(str(table))[0]\n"
     ]
    },
    {
     "name": "stdout",
     "output_type": "stream",
     "text": [
      "Fetching La Liga [standard] stats...\n"
     ]
    },
    {
     "name": "stderr",
     "output_type": "stream",
     "text": [
      "/var/folders/mp/l7pc43ln25l8vb_t3fc17rlm0000gn/T/ipykernel_61658/2025400879.py:109: FutureWarning: Passing literal html to 'read_html' is deprecated and will be removed in a future version. To read from a literal string, wrap it in a 'StringIO' object.\n",
      "  df = pd.read_html(str(table))[0]\n"
     ]
    },
    {
     "name": "stdout",
     "output_type": "stream",
     "text": [
      "Fetching Bundesliga [standard] stats...\n"
     ]
    },
    {
     "name": "stderr",
     "output_type": "stream",
     "text": [
      "/var/folders/mp/l7pc43ln25l8vb_t3fc17rlm0000gn/T/ipykernel_61658/2025400879.py:109: FutureWarning: Passing literal html to 'read_html' is deprecated and will be removed in a future version. To read from a literal string, wrap it in a 'StringIO' object.\n",
      "  df = pd.read_html(str(table))[0]\n"
     ]
    },
    {
     "name": "stdout",
     "output_type": "stream",
     "text": [
      "Fetching Serie A [standard] stats...\n"
     ]
    },
    {
     "name": "stderr",
     "output_type": "stream",
     "text": [
      "/var/folders/mp/l7pc43ln25l8vb_t3fc17rlm0000gn/T/ipykernel_61658/2025400879.py:109: FutureWarning: Passing literal html to 'read_html' is deprecated and will be removed in a future version. To read from a literal string, wrap it in a 'StringIO' object.\n",
      "  df = pd.read_html(str(table))[0]\n"
     ]
    },
    {
     "name": "stdout",
     "output_type": "stream",
     "text": [
      "Fetching Ligue 1 [standard] stats...\n"
     ]
    },
    {
     "name": "stderr",
     "output_type": "stream",
     "text": [
      "/var/folders/mp/l7pc43ln25l8vb_t3fc17rlm0000gn/T/ipykernel_61658/2025400879.py:109: FutureWarning: Passing literal html to 'read_html' is deprecated and will be removed in a future version. To read from a literal string, wrap it in a 'StringIO' object.\n",
      "  df = pd.read_html(str(table))[0]\n"
     ]
    },
    {
     "name": "stdout",
     "output_type": "stream",
     "text": [
      "Saved standard stats: 96 rows\n",
      "Fetching Premier League [shooting] stats...\n"
     ]
    },
    {
     "name": "stderr",
     "output_type": "stream",
     "text": [
      "/var/folders/mp/l7pc43ln25l8vb_t3fc17rlm0000gn/T/ipykernel_61658/2025400879.py:109: FutureWarning: Passing literal html to 'read_html' is deprecated and will be removed in a future version. To read from a literal string, wrap it in a 'StringIO' object.\n",
      "  df = pd.read_html(str(table))[0]\n"
     ]
    },
    {
     "name": "stdout",
     "output_type": "stream",
     "text": [
      "Fetching La Liga [shooting] stats...\n"
     ]
    },
    {
     "name": "stderr",
     "output_type": "stream",
     "text": [
      "/var/folders/mp/l7pc43ln25l8vb_t3fc17rlm0000gn/T/ipykernel_61658/2025400879.py:109: FutureWarning: Passing literal html to 'read_html' is deprecated and will be removed in a future version. To read from a literal string, wrap it in a 'StringIO' object.\n",
      "  df = pd.read_html(str(table))[0]\n"
     ]
    },
    {
     "name": "stdout",
     "output_type": "stream",
     "text": [
      "Fetching Bundesliga [shooting] stats...\n"
     ]
    },
    {
     "name": "stderr",
     "output_type": "stream",
     "text": [
      "/var/folders/mp/l7pc43ln25l8vb_t3fc17rlm0000gn/T/ipykernel_61658/2025400879.py:109: FutureWarning: Passing literal html to 'read_html' is deprecated and will be removed in a future version. To read from a literal string, wrap it in a 'StringIO' object.\n",
      "  df = pd.read_html(str(table))[0]\n"
     ]
    },
    {
     "name": "stdout",
     "output_type": "stream",
     "text": [
      "Fetching Serie A [shooting] stats...\n"
     ]
    },
    {
     "name": "stderr",
     "output_type": "stream",
     "text": [
      "/var/folders/mp/l7pc43ln25l8vb_t3fc17rlm0000gn/T/ipykernel_61658/2025400879.py:109: FutureWarning: Passing literal html to 'read_html' is deprecated and will be removed in a future version. To read from a literal string, wrap it in a 'StringIO' object.\n",
      "  df = pd.read_html(str(table))[0]\n"
     ]
    },
    {
     "name": "stdout",
     "output_type": "stream",
     "text": [
      "Fetching Ligue 1 [shooting] stats...\n"
     ]
    },
    {
     "name": "stderr",
     "output_type": "stream",
     "text": [
      "/var/folders/mp/l7pc43ln25l8vb_t3fc17rlm0000gn/T/ipykernel_61658/2025400879.py:109: FutureWarning: Passing literal html to 'read_html' is deprecated and will be removed in a future version. To read from a literal string, wrap it in a 'StringIO' object.\n",
      "  df = pd.read_html(str(table))[0]\n"
     ]
    },
    {
     "name": "stdout",
     "output_type": "stream",
     "text": [
      "Saved shooting stats: 2966 rows\n",
      "Fetching Premier League [passing] stats...\n"
     ]
    },
    {
     "name": "stderr",
     "output_type": "stream",
     "text": [
      "/var/folders/mp/l7pc43ln25l8vb_t3fc17rlm0000gn/T/ipykernel_61658/2025400879.py:109: FutureWarning: Passing literal html to 'read_html' is deprecated and will be removed in a future version. To read from a literal string, wrap it in a 'StringIO' object.\n",
      "  df = pd.read_html(str(table))[0]\n"
     ]
    },
    {
     "name": "stdout",
     "output_type": "stream",
     "text": [
      "Fetching La Liga [passing] stats...\n"
     ]
    },
    {
     "name": "stderr",
     "output_type": "stream",
     "text": [
      "/var/folders/mp/l7pc43ln25l8vb_t3fc17rlm0000gn/T/ipykernel_61658/2025400879.py:109: FutureWarning: Passing literal html to 'read_html' is deprecated and will be removed in a future version. To read from a literal string, wrap it in a 'StringIO' object.\n",
      "  df = pd.read_html(str(table))[0]\n"
     ]
    },
    {
     "name": "stdout",
     "output_type": "stream",
     "text": [
      "Fetching Bundesliga [passing] stats...\n"
     ]
    },
    {
     "name": "stderr",
     "output_type": "stream",
     "text": [
      "/var/folders/mp/l7pc43ln25l8vb_t3fc17rlm0000gn/T/ipykernel_61658/2025400879.py:109: FutureWarning: Passing literal html to 'read_html' is deprecated and will be removed in a future version. To read from a literal string, wrap it in a 'StringIO' object.\n",
      "  df = pd.read_html(str(table))[0]\n"
     ]
    },
    {
     "name": "stdout",
     "output_type": "stream",
     "text": [
      "Fetching Serie A [passing] stats...\n"
     ]
    },
    {
     "name": "stderr",
     "output_type": "stream",
     "text": [
      "/var/folders/mp/l7pc43ln25l8vb_t3fc17rlm0000gn/T/ipykernel_61658/2025400879.py:109: FutureWarning: Passing literal html to 'read_html' is deprecated and will be removed in a future version. To read from a literal string, wrap it in a 'StringIO' object.\n",
      "  df = pd.read_html(str(table))[0]\n"
     ]
    },
    {
     "name": "stdout",
     "output_type": "stream",
     "text": [
      "Fetching Ligue 1 [passing] stats...\n"
     ]
    },
    {
     "name": "stderr",
     "output_type": "stream",
     "text": [
      "/var/folders/mp/l7pc43ln25l8vb_t3fc17rlm0000gn/T/ipykernel_61658/2025400879.py:109: FutureWarning: Passing literal html to 'read_html' is deprecated and will be removed in a future version. To read from a literal string, wrap it in a 'StringIO' object.\n",
      "  df = pd.read_html(str(table))[0]\n"
     ]
    },
    {
     "name": "stdout",
     "output_type": "stream",
     "text": [
      "Saved passing stats: 2966 rows\n",
      "Fetching Premier League [gca] stats...\n"
     ]
    },
    {
     "name": "stderr",
     "output_type": "stream",
     "text": [
      "/var/folders/mp/l7pc43ln25l8vb_t3fc17rlm0000gn/T/ipykernel_61658/2025400879.py:109: FutureWarning: Passing literal html to 'read_html' is deprecated and will be removed in a future version. To read from a literal string, wrap it in a 'StringIO' object.\n",
      "  df = pd.read_html(str(table))[0]\n"
     ]
    },
    {
     "name": "stdout",
     "output_type": "stream",
     "text": [
      "Fetching La Liga [gca] stats...\n"
     ]
    },
    {
     "name": "stderr",
     "output_type": "stream",
     "text": [
      "/var/folders/mp/l7pc43ln25l8vb_t3fc17rlm0000gn/T/ipykernel_61658/2025400879.py:109: FutureWarning: Passing literal html to 'read_html' is deprecated and will be removed in a future version. To read from a literal string, wrap it in a 'StringIO' object.\n",
      "  df = pd.read_html(str(table))[0]\n"
     ]
    },
    {
     "name": "stdout",
     "output_type": "stream",
     "text": [
      "Fetching Bundesliga [gca] stats...\n"
     ]
    },
    {
     "name": "stderr",
     "output_type": "stream",
     "text": [
      "/var/folders/mp/l7pc43ln25l8vb_t3fc17rlm0000gn/T/ipykernel_61658/2025400879.py:109: FutureWarning: Passing literal html to 'read_html' is deprecated and will be removed in a future version. To read from a literal string, wrap it in a 'StringIO' object.\n",
      "  df = pd.read_html(str(table))[0]\n"
     ]
    },
    {
     "name": "stdout",
     "output_type": "stream",
     "text": [
      "Fetching Serie A [gca] stats...\n"
     ]
    },
    {
     "name": "stderr",
     "output_type": "stream",
     "text": [
      "/var/folders/mp/l7pc43ln25l8vb_t3fc17rlm0000gn/T/ipykernel_61658/2025400879.py:109: FutureWarning: Passing literal html to 'read_html' is deprecated and will be removed in a future version. To read from a literal string, wrap it in a 'StringIO' object.\n",
      "  df = pd.read_html(str(table))[0]\n"
     ]
    },
    {
     "name": "stdout",
     "output_type": "stream",
     "text": [
      "Fetching Ligue 1 [gca] stats...\n"
     ]
    },
    {
     "name": "stderr",
     "output_type": "stream",
     "text": [
      "/var/folders/mp/l7pc43ln25l8vb_t3fc17rlm0000gn/T/ipykernel_61658/2025400879.py:109: FutureWarning: Passing literal html to 'read_html' is deprecated and will be removed in a future version. To read from a literal string, wrap it in a 'StringIO' object.\n",
      "  df = pd.read_html(str(table))[0]\n"
     ]
    },
    {
     "name": "stdout",
     "output_type": "stream",
     "text": [
      "Saved gca stats: 2966 rows\n",
      "Fetching Premier League [defense] stats...\n"
     ]
    },
    {
     "name": "stderr",
     "output_type": "stream",
     "text": [
      "/var/folders/mp/l7pc43ln25l8vb_t3fc17rlm0000gn/T/ipykernel_61658/2025400879.py:109: FutureWarning: Passing literal html to 'read_html' is deprecated and will be removed in a future version. To read from a literal string, wrap it in a 'StringIO' object.\n",
      "  df = pd.read_html(str(table))[0]\n"
     ]
    },
    {
     "name": "stdout",
     "output_type": "stream",
     "text": [
      "Fetching La Liga [defense] stats...\n"
     ]
    },
    {
     "name": "stderr",
     "output_type": "stream",
     "text": [
      "/var/folders/mp/l7pc43ln25l8vb_t3fc17rlm0000gn/T/ipykernel_61658/2025400879.py:109: FutureWarning: Passing literal html to 'read_html' is deprecated and will be removed in a future version. To read from a literal string, wrap it in a 'StringIO' object.\n",
      "  df = pd.read_html(str(table))[0]\n"
     ]
    },
    {
     "name": "stdout",
     "output_type": "stream",
     "text": [
      "Fetching Bundesliga [defense] stats...\n"
     ]
    },
    {
     "name": "stderr",
     "output_type": "stream",
     "text": [
      "/var/folders/mp/l7pc43ln25l8vb_t3fc17rlm0000gn/T/ipykernel_61658/2025400879.py:109: FutureWarning: Passing literal html to 'read_html' is deprecated and will be removed in a future version. To read from a literal string, wrap it in a 'StringIO' object.\n",
      "  df = pd.read_html(str(table))[0]\n"
     ]
    },
    {
     "name": "stdout",
     "output_type": "stream",
     "text": [
      "Fetching Serie A [defense] stats...\n"
     ]
    },
    {
     "name": "stderr",
     "output_type": "stream",
     "text": [
      "/var/folders/mp/l7pc43ln25l8vb_t3fc17rlm0000gn/T/ipykernel_61658/2025400879.py:109: FutureWarning: Passing literal html to 'read_html' is deprecated and will be removed in a future version. To read from a literal string, wrap it in a 'StringIO' object.\n",
      "  df = pd.read_html(str(table))[0]\n"
     ]
    },
    {
     "name": "stdout",
     "output_type": "stream",
     "text": [
      "Fetching Ligue 1 [defense] stats...\n"
     ]
    },
    {
     "name": "stderr",
     "output_type": "stream",
     "text": [
      "/var/folders/mp/l7pc43ln25l8vb_t3fc17rlm0000gn/T/ipykernel_61658/2025400879.py:109: FutureWarning: Passing literal html to 'read_html' is deprecated and will be removed in a future version. To read from a literal string, wrap it in a 'StringIO' object.\n",
      "  df = pd.read_html(str(table))[0]\n"
     ]
    },
    {
     "name": "stdout",
     "output_type": "stream",
     "text": [
      "Saved defense stats: 2966 rows\n",
      "Fetching Premier League [possession] stats...\n"
     ]
    },
    {
     "name": "stderr",
     "output_type": "stream",
     "text": [
      "/var/folders/mp/l7pc43ln25l8vb_t3fc17rlm0000gn/T/ipykernel_61658/2025400879.py:109: FutureWarning: Passing literal html to 'read_html' is deprecated and will be removed in a future version. To read from a literal string, wrap it in a 'StringIO' object.\n",
      "  df = pd.read_html(str(table))[0]\n"
     ]
    },
    {
     "name": "stdout",
     "output_type": "stream",
     "text": [
      "Fetching La Liga [possession] stats...\n"
     ]
    },
    {
     "name": "stderr",
     "output_type": "stream",
     "text": [
      "/var/folders/mp/l7pc43ln25l8vb_t3fc17rlm0000gn/T/ipykernel_61658/2025400879.py:109: FutureWarning: Passing literal html to 'read_html' is deprecated and will be removed in a future version. To read from a literal string, wrap it in a 'StringIO' object.\n",
      "  df = pd.read_html(str(table))[0]\n"
     ]
    },
    {
     "name": "stdout",
     "output_type": "stream",
     "text": [
      "Fetching Bundesliga [possession] stats...\n"
     ]
    },
    {
     "name": "stderr",
     "output_type": "stream",
     "text": [
      "/var/folders/mp/l7pc43ln25l8vb_t3fc17rlm0000gn/T/ipykernel_61658/2025400879.py:109: FutureWarning: Passing literal html to 'read_html' is deprecated and will be removed in a future version. To read from a literal string, wrap it in a 'StringIO' object.\n",
      "  df = pd.read_html(str(table))[0]\n"
     ]
    },
    {
     "name": "stdout",
     "output_type": "stream",
     "text": [
      "Fetching Serie A [possession] stats...\n"
     ]
    },
    {
     "name": "stderr",
     "output_type": "stream",
     "text": [
      "/var/folders/mp/l7pc43ln25l8vb_t3fc17rlm0000gn/T/ipykernel_61658/2025400879.py:109: FutureWarning: Passing literal html to 'read_html' is deprecated and will be removed in a future version. To read from a literal string, wrap it in a 'StringIO' object.\n",
      "  df = pd.read_html(str(table))[0]\n"
     ]
    },
    {
     "name": "stdout",
     "output_type": "stream",
     "text": [
      "Fetching Ligue 1 [possession] stats...\n"
     ]
    },
    {
     "name": "stderr",
     "output_type": "stream",
     "text": [
      "/var/folders/mp/l7pc43ln25l8vb_t3fc17rlm0000gn/T/ipykernel_61658/2025400879.py:109: FutureWarning: Passing literal html to 'read_html' is deprecated and will be removed in a future version. To read from a literal string, wrap it in a 'StringIO' object.\n",
      "  df = pd.read_html(str(table))[0]\n"
     ]
    },
    {
     "name": "stdout",
     "output_type": "stream",
     "text": [
      "Saved possession stats: 2966 rows\n",
      "Fetching Premier League [misc] stats...\n"
     ]
    },
    {
     "name": "stderr",
     "output_type": "stream",
     "text": [
      "/var/folders/mp/l7pc43ln25l8vb_t3fc17rlm0000gn/T/ipykernel_61658/2025400879.py:109: FutureWarning: Passing literal html to 'read_html' is deprecated and will be removed in a future version. To read from a literal string, wrap it in a 'StringIO' object.\n",
      "  df = pd.read_html(str(table))[0]\n"
     ]
    },
    {
     "name": "stdout",
     "output_type": "stream",
     "text": [
      "Fetching La Liga [misc] stats...\n"
     ]
    },
    {
     "name": "stderr",
     "output_type": "stream",
     "text": [
      "/var/folders/mp/l7pc43ln25l8vb_t3fc17rlm0000gn/T/ipykernel_61658/2025400879.py:109: FutureWarning: Passing literal html to 'read_html' is deprecated and will be removed in a future version. To read from a literal string, wrap it in a 'StringIO' object.\n",
      "  df = pd.read_html(str(table))[0]\n"
     ]
    },
    {
     "name": "stdout",
     "output_type": "stream",
     "text": [
      "Fetching Bundesliga [misc] stats...\n"
     ]
    },
    {
     "name": "stderr",
     "output_type": "stream",
     "text": [
      "/var/folders/mp/l7pc43ln25l8vb_t3fc17rlm0000gn/T/ipykernel_61658/2025400879.py:109: FutureWarning: Passing literal html to 'read_html' is deprecated and will be removed in a future version. To read from a literal string, wrap it in a 'StringIO' object.\n",
      "  df = pd.read_html(str(table))[0]\n"
     ]
    },
    {
     "name": "stdout",
     "output_type": "stream",
     "text": [
      "Fetching Serie A [misc] stats...\n"
     ]
    },
    {
     "name": "stderr",
     "output_type": "stream",
     "text": [
      "/var/folders/mp/l7pc43ln25l8vb_t3fc17rlm0000gn/T/ipykernel_61658/2025400879.py:109: FutureWarning: Passing literal html to 'read_html' is deprecated and will be removed in a future version. To read from a literal string, wrap it in a 'StringIO' object.\n",
      "  df = pd.read_html(str(table))[0]\n"
     ]
    },
    {
     "name": "stdout",
     "output_type": "stream",
     "text": [
      "Fetching Ligue 1 [misc] stats...\n",
      "Saved misc stats: 2966 rows\n",
      "  Unnamed: 0_level_0 Unnamed: 1_level_0 Unnamed: 2_level_0 Unnamed: 3_level_0  \\\n",
      "               Squad               # Pl                Age               Poss   \n",
      "0            Arsenal                 25               25.8               56.9   \n",
      "1        Aston Villa                 28               27.0               50.5   \n",
      "2        Bournemouth                 29               25.1               48.5   \n",
      "3          Brentford                 28               25.8               47.9   \n",
      "4           Brighton                 32               24.8               52.3   \n",
      "\n",
      "  Playing Time                    Performance      ... Per 90 Minutes        \\\n",
      "            MP Starts   Min   90s         Gls Ast  ...            G+A  G-PK   \n",
      "0           38    418  3420  38.0          67  55  ...           3.21  1.71   \n",
      "1           38    418  3420  38.0          56  45  ...           2.66  1.39   \n",
      "2           38    418  3420  38.0          57  41  ...           2.58  1.34   \n",
      "3           38    418  3420  38.0          65  44  ...           2.87  1.58   \n",
      "4           38    418  3420  38.0          64  41  ...           2.76  1.50   \n",
      "\n",
      "                                                    League  Category  \n",
      "  G+A-PK    xG   xAG xG+xAG  npxG npxG+xAG                            \n",
      "0   3.16  1.58  1.19   2.77  1.54     2.73  Premier League  standard  \n",
      "1   2.58  1.48  1.10   2.57  1.35     2.45  Premier League  standard  \n",
      "2   2.42  1.68  1.15   2.84  1.54     2.69  Premier League  standard  \n",
      "3   2.74  1.55  1.12   2.67  1.43     2.55  Premier League  standard  \n",
      "4   2.58  1.54  1.06   2.61  1.40     2.47  Premier League  standard  \n",
      "\n",
      "[5 rows x 34 columns]\n"
     ]
    },
    {
     "name": "stderr",
     "output_type": "stream",
     "text": [
      "/var/folders/mp/l7pc43ln25l8vb_t3fc17rlm0000gn/T/ipykernel_61658/2025400879.py:109: FutureWarning: Passing literal html to 'read_html' is deprecated and will be removed in a future version. To read from a literal string, wrap it in a 'StringIO' object.\n",
      "  df = pd.read_html(str(table))[0]\n"
     ]
    }
   ],
   "source": [
    "import os\n",
    "import time\n",
    "import random\n",
    "import pandas as pd\n",
    "import cloudscraper\n",
    "from bs4 import BeautifulSoup, Comment\n",
    "import requests\n",
    "\n",
    "# Initialize cloudscraper session\n",
    "scraper = cloudscraper.create_scraper(\n",
    "    browser={\"browser\": \"chrome\", \"platform\": \"windows\", \"desktop\": True}\n",
    ")\n",
    "BASE_URL = \"https://fbref.com\"\n",
    "\n",
    "# Top-5 leagues: name -> comp_id\n",
    "LEAGUES = {\n",
    "    'Premier League': 9,\n",
    "    'La Liga':       12,\n",
    "    'Bundesliga':    20,\n",
    "    'Serie A':       11,\n",
    "    'Ligue 1':       13,\n",
    "}\n",
    "# Stats categories: key -> URL segment ('' means overall)\n",
    "CATEGORIES = {\n",
    "    'standard':    '',\n",
    "    'shooting':    'shooting',\n",
    "    'passing':     'passing',\n",
    "    'gca':         'gca',\n",
    "    'defense':     'defense',\n",
    "    'possession':  'possession',\n",
    "    'misc':        'misc',\n",
    "}\n",
    "\n",
    "# Request throttling and retry settings\n",
    "USER_AGENTS = [\n",
    "    'Mozilla/5.0 (Windows NT 10.0; Win64; x64) AppleWebKit/537.36 '\n",
    "    '(KHTML, like Gecko) Chrome/115.0.0.0 Safari/537.36',\n",
    "    'Mozilla/5.0 (Macintosh; Intel Mac OS X 13_4) AppleWebKit/605.1.15 '\n",
    "    '(KHTML, like Gecko) Version/16.5 Safari/605.1.15',\n",
    "    'Mozilla/5.0 (X11; Linux x86_64) AppleWebKit/537.36 '\n",
    "    '(KHTML, like Gecko) Chrome/114.0.0.0 Safari/537.36',\n",
    "    'Mozilla/5.0 (Windows NT 10.0; Win64; x64; rv:117.0) Gecko/20100101 Firefox/117.0',\n",
    "]\n",
    "PROXIES = []  # e.g. ['http://proxy1:port', ...]\n",
    "DELAY_MIN = 3\n",
    "DELAY_MAX = 6\n",
    "MAX_RETRIES = 5\n",
    "BACKOFF_FACTOR = 2\n",
    "\n",
    "\n",
    "def get_with_retries(url, referer=None):\n",
    "    \"\"\"\n",
    "    Fetch URL with retries on 429/network errors. Exponential backoff + jitter.\n",
    "    \"\"\"\n",
    "    last_err = None\n",
    "    for attempt in range(1, MAX_RETRIES + 1):\n",
    "        headers = {'User-Agent': random.choice(USER_AGENTS)}\n",
    "        if referer:\n",
    "            headers['Referer'] = referer\n",
    "        proxies = None\n",
    "        if PROXIES:\n",
    "            proxy = random.choice(PROXIES)\n",
    "            proxies = {'http': proxy, 'https': proxy}\n",
    "        try:\n",
    "            resp = scraper.get(url, headers=headers, proxies=proxies)\n",
    "            if resp.status_code == 429:\n",
    "                raise requests.exceptions.HTTPError('429 Too Many Requests')\n",
    "            resp.raise_for_status()\n",
    "            return resp\n",
    "        except Exception as e:\n",
    "            last_err = e\n",
    "            if attempt == MAX_RETRIES:\n",
    "                print(f\"[Error] {url} failed after {MAX_RETRIES} attempts: {e}\")\n",
    "                raise\n",
    "            wait = (BACKOFF_FACTOR ** (attempt - 1)) + random.uniform(0, 1)\n",
    "            print(f\"[Retry {attempt}] {url} error: {e}. Sleeping {wait:.1f}s...\")\n",
    "            time.sleep(wait)\n",
    "    raise last_err\n",
    "\n",
    "\n",
    "def scrape_league_category(league_name: str, comp_id: int, category_key: str) -> pd.DataFrame:\n",
    "    \"\"\"\n",
    "    Scrape player stats for one league and category.\n",
    "    Returns DataFrame with extra columns: League, Category.\n",
    "    \"\"\"\n",
    "    segment = CATEGORIES[category_key]\n",
    "    path = f\"{segment}/\" if segment else ''\n",
    "    # Build URL\n",
    "    url = f\"{BASE_URL}/en/comps/{comp_id}/{path}{league_name.replace(' ', '-')}-Stats\"\n",
    "    print(f\"Fetching {league_name} [{category_key}] stats...\")\n",
    "    time.sleep(random.uniform(DELAY_MIN, DELAY_MAX))\n",
    "    resp = get_with_retries(url)\n",
    "    soup = BeautifulSoup(resp.text, 'lxml')\n",
    "\n",
    "    # Target player stats table in commented block\n",
    "    block_id = f\"div_stats_{segment or 'standard'}\"\n",
    "    comment = soup.find(string=lambda t: isinstance(t, Comment) and block_id in t)\n",
    "    if comment:\n",
    "        tbl_soup = BeautifulSoup(comment, 'lxml')\n",
    "        table = tbl_soup.find('table')\n",
    "    else:\n",
    "        # fallback: first player stats table by id prefix\n",
    "        table = soup.find('table', id=lambda x: x and x.startswith('stats_'))\n",
    "\n",
    "    if table is None or not table.tbody:\n",
    "        print(f\"[Warning] No player table for {league_name} {category_key}\")\n",
    "        return pd.DataFrame()\n",
    "\n",
    "    df = pd.read_html(str(table))[0]\n",
    "    # Label league and category\n",
    "    df['League'] = league_name\n",
    "    df['Category'] = category_key\n",
    "    return df\n",
    "\n",
    "\n",
    "def scrape_all_categories():\n",
    "    \"\"\"\n",
    "    Scrape all categories across all leagues, saving each category into its own DataFrame and CSV.\n",
    "    Returns dict: category_key -> DataFrame\n",
    "    \"\"\"\n",
    "    os.makedirs('data', exist_ok=True)\n",
    "    category_dfs = {}\n",
    "    for category_key in CATEGORIES.keys():\n",
    "        frames = []\n",
    "        for league, comp_id in LEAGUES.items():\n",
    "            try:\n",
    "                df = scrape_league_category(league, comp_id, category_key)\n",
    "                if not df.empty:\n",
    "                    frames.append(df)\n",
    "            except Exception as e:\n",
    "                print(f\"Error scraping {league} {category_key}: {e}\")\n",
    "        # Combine leagues for this category\n",
    "        if frames:\n",
    "            cat_df = pd.concat(frames, ignore_index=True)\n",
    "        else:\n",
    "            cat_df = pd.DataFrame()\n",
    "        # Save to CSV\n",
    "        cat_df.to_csv(f\"data/{category_key}_player_stats.csv\", index=False)\n",
    "        category_dfs[category_key] = cat_df\n",
    "        print(f\"Saved {category_key} stats: {cat_df.shape[0]} rows\")\n",
    "    return category_dfs\n",
    "\n",
    "\n",
    "def main():\n",
    "    dfs = scrape_all_categories()\n",
    "    # Example access: dfs['defense'] for combined defensive stats\n",
    "    return dfs\n",
    "\n",
    "if __name__ == '__main__':\n",
    "    all_category_dfs = main()\n",
    "    # Print head of one category\n",
    "    print(all_category_dfs['standard'].head())\n"
   ]
  },
  {
   "cell_type": "code",
   "execution_count": 12,
   "metadata": {},
   "outputs": [
    {
     "name": "stdout",
     "output_type": "stream",
     "text": [
      "<class 'pandas.core.frame.DataFrame'>\n",
      "RangeIndex: 2967 entries, 0 to 2966\n",
      "Data columns (total 27 columns):\n",
      " #   Column               Non-Null Count  Dtype \n",
      "---  ------               --------------  ----- \n",
      " 0   Unnamed: 0_level_0   2967 non-null   object\n",
      " 1   Unnamed: 1_level_0   2967 non-null   object\n",
      " 2   Unnamed: 2_level_0   2960 non-null   object\n",
      " 3   Unnamed: 3_level_0   2967 non-null   object\n",
      " 4   Unnamed: 4_level_0   2967 non-null   object\n",
      " 5   Unnamed: 5_level_0   2959 non-null   object\n",
      " 6   Unnamed: 6_level_0   2959 non-null   object\n",
      " 7   Unnamed: 7_level_0   2967 non-null   object\n",
      " 8   SCA                  2967 non-null   object\n",
      " 9   SCA.1                2967 non-null   object\n",
      " 10  SCA Types            2967 non-null   object\n",
      " 11  SCA Types.1          2967 non-null   object\n",
      " 12  SCA Types.2          2967 non-null   object\n",
      " 13  SCA Types.3          2967 non-null   object\n",
      " 14  SCA Types.4          2967 non-null   object\n",
      " 15  SCA Types.5          2967 non-null   object\n",
      " 16  GCA                  2967 non-null   object\n",
      " 17  GCA.1                2967 non-null   object\n",
      " 18  GCA Types            2967 non-null   object\n",
      " 19  GCA Types.1          2967 non-null   object\n",
      " 20  GCA Types.2          2967 non-null   object\n",
      " 21  GCA Types.3          2967 non-null   object\n",
      " 22  GCA Types.4          2967 non-null   object\n",
      " 23  GCA Types.5          2967 non-null   object\n",
      " 24  Unnamed: 24_level_0  2967 non-null   object\n",
      " 25  League               2966 non-null   object\n",
      " 26  Category             2966 non-null   object\n",
      "dtypes: object(27)\n",
      "memory usage: 626.0+ KB\n"
     ]
    }
   ],
   "source": [
    "df = pd.read_csv('data/gca_player_stats.csv')\n",
    "df.info()"
   ]
  },
  {
   "cell_type": "code",
   "execution_count": null,
   "metadata": {},
   "outputs": [],
   "source": []
  }
 ],
 "metadata": {
  "kernelspec": {
   "display_name": "Python 3",
   "language": "python",
   "name": "python3"
  },
  "language_info": {
   "codemirror_mode": {
    "name": "ipython",
    "version": 3
   },
   "file_extension": ".py",
   "mimetype": "text/x-python",
   "name": "python",
   "nbconvert_exporter": "python",
   "pygments_lexer": "ipython3",
   "version": "3.13.0"
  }
 },
 "nbformat": 4,
 "nbformat_minor": 2
}
