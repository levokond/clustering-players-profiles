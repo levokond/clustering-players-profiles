{
 "cells": [
  {
   "cell_type": "code",
   "execution_count": 4,
   "metadata": {},
   "outputs": [
    {
     "name": "stdout",
     "output_type": "stream",
     "text": [
      "Fetching Premier League [standard] stats...\n"
     ]
    },
    {
     "name": "stderr",
     "output_type": "stream",
     "text": [
      "/var/folders/mp/l7pc43ln25l8vb_t3fc17rlm0000gn/T/ipykernel_61658/2025400879.py:109: FutureWarning: Passing literal html to 'read_html' is deprecated and will be removed in a future version. To read from a literal string, wrap it in a 'StringIO' object.\n",
      "  df = pd.read_html(str(table))[0]\n"
     ]
    },
    {
     "name": "stdout",
     "output_type": "stream",
     "text": [
      "Fetching La Liga [standard] stats...\n"
     ]
    },
    {
     "name": "stderr",
     "output_type": "stream",
     "text": [
      "/var/folders/mp/l7pc43ln25l8vb_t3fc17rlm0000gn/T/ipykernel_61658/2025400879.py:109: FutureWarning: Passing literal html to 'read_html' is deprecated and will be removed in a future version. To read from a literal string, wrap it in a 'StringIO' object.\n",
      "  df = pd.read_html(str(table))[0]\n"
     ]
    },
    {
     "name": "stdout",
     "output_type": "stream",
     "text": [
      "Fetching Bundesliga [standard] stats...\n"
     ]
    },
    {
     "name": "stderr",
     "output_type": "stream",
     "text": [
      "/var/folders/mp/l7pc43ln25l8vb_t3fc17rlm0000gn/T/ipykernel_61658/2025400879.py:109: FutureWarning: Passing literal html to 'read_html' is deprecated and will be removed in a future version. To read from a literal string, wrap it in a 'StringIO' object.\n",
      "  df = pd.read_html(str(table))[0]\n"
     ]
    },
    {
     "name": "stdout",
     "output_type": "stream",
     "text": [
      "Fetching Serie A [standard] stats...\n"
     ]
    },
    {
     "name": "stderr",
     "output_type": "stream",
     "text": [
      "/var/folders/mp/l7pc43ln25l8vb_t3fc17rlm0000gn/T/ipykernel_61658/2025400879.py:109: FutureWarning: Passing literal html to 'read_html' is deprecated and will be removed in a future version. To read from a literal string, wrap it in a 'StringIO' object.\n",
      "  df = pd.read_html(str(table))[0]\n"
     ]
    },
    {
     "name": "stdout",
     "output_type": "stream",
     "text": [
      "Fetching Ligue 1 [standard] stats...\n"
     ]
    },
    {
     "name": "stderr",
     "output_type": "stream",
     "text": [
      "/var/folders/mp/l7pc43ln25l8vb_t3fc17rlm0000gn/T/ipykernel_61658/2025400879.py:109: FutureWarning: Passing literal html to 'read_html' is deprecated and will be removed in a future version. To read from a literal string, wrap it in a 'StringIO' object.\n",
      "  df = pd.read_html(str(table))[0]\n"
     ]
    },
    {
     "name": "stdout",
     "output_type": "stream",
     "text": [
      "Saved standard stats: 96 rows\n",
      "Fetching Premier League [shooting] stats...\n"
     ]
    },
    {
     "name": "stderr",
     "output_type": "stream",
     "text": [
      "/var/folders/mp/l7pc43ln25l8vb_t3fc17rlm0000gn/T/ipykernel_61658/2025400879.py:109: FutureWarning: Passing literal html to 'read_html' is deprecated and will be removed in a future version. To read from a literal string, wrap it in a 'StringIO' object.\n",
      "  df = pd.read_html(str(table))[0]\n"
     ]
    },
    {
     "name": "stdout",
     "output_type": "stream",
     "text": [
      "Fetching La Liga [shooting] stats...\n"
     ]
    },
    {
     "name": "stderr",
     "output_type": "stream",
     "text": [
      "/var/folders/mp/l7pc43ln25l8vb_t3fc17rlm0000gn/T/ipykernel_61658/2025400879.py:109: FutureWarning: Passing literal html to 'read_html' is deprecated and will be removed in a future version. To read from a literal string, wrap it in a 'StringIO' object.\n",
      "  df = pd.read_html(str(table))[0]\n"
     ]
    },
    {
     "name": "stdout",
     "output_type": "stream",
     "text": [
      "Fetching Bundesliga [shooting] stats...\n"
     ]
    },
    {
     "name": "stderr",
     "output_type": "stream",
     "text": [
      "/var/folders/mp/l7pc43ln25l8vb_t3fc17rlm0000gn/T/ipykernel_61658/2025400879.py:109: FutureWarning: Passing literal html to 'read_html' is deprecated and will be removed in a future version. To read from a literal string, wrap it in a 'StringIO' object.\n",
      "  df = pd.read_html(str(table))[0]\n"
     ]
    },
    {
     "name": "stdout",
     "output_type": "stream",
     "text": [
      "Fetching Serie A [shooting] stats...\n"
     ]
    },
    {
     "name": "stderr",
     "output_type": "stream",
     "text": [
      "/var/folders/mp/l7pc43ln25l8vb_t3fc17rlm0000gn/T/ipykernel_61658/2025400879.py:109: FutureWarning: Passing literal html to 'read_html' is deprecated and will be removed in a future version. To read from a literal string, wrap it in a 'StringIO' object.\n",
      "  df = pd.read_html(str(table))[0]\n"
     ]
    },
    {
     "name": "stdout",
     "output_type": "stream",
     "text": [
      "Fetching Ligue 1 [shooting] stats...\n"
     ]
    },
    {
     "name": "stderr",
     "output_type": "stream",
     "text": [
      "/var/folders/mp/l7pc43ln25l8vb_t3fc17rlm0000gn/T/ipykernel_61658/2025400879.py:109: FutureWarning: Passing literal html to 'read_html' is deprecated and will be removed in a future version. To read from a literal string, wrap it in a 'StringIO' object.\n",
      "  df = pd.read_html(str(table))[0]\n"
     ]
    },
    {
     "name": "stdout",
     "output_type": "stream",
     "text": [
      "Saved shooting stats: 2966 rows\n",
      "Fetching Premier League [passing] stats...\n"
     ]
    },
    {
     "name": "stderr",
     "output_type": "stream",
     "text": [
      "/var/folders/mp/l7pc43ln25l8vb_t3fc17rlm0000gn/T/ipykernel_61658/2025400879.py:109: FutureWarning: Passing literal html to 'read_html' is deprecated and will be removed in a future version. To read from a literal string, wrap it in a 'StringIO' object.\n",
      "  df = pd.read_html(str(table))[0]\n"
     ]
    },
    {
     "name": "stdout",
     "output_type": "stream",
     "text": [
      "Fetching La Liga [passing] stats...\n"
     ]
    },
    {
     "name": "stderr",
     "output_type": "stream",
     "text": [
      "/var/folders/mp/l7pc43ln25l8vb_t3fc17rlm0000gn/T/ipykernel_61658/2025400879.py:109: FutureWarning: Passing literal html to 'read_html' is deprecated and will be removed in a future version. To read from a literal string, wrap it in a 'StringIO' object.\n",
      "  df = pd.read_html(str(table))[0]\n"
     ]
    },
    {
     "name": "stdout",
     "output_type": "stream",
     "text": [
      "Fetching Bundesliga [passing] stats...\n"
     ]
    },
    {
     "name": "stderr",
     "output_type": "stream",
     "text": [
      "/var/folders/mp/l7pc43ln25l8vb_t3fc17rlm0000gn/T/ipykernel_61658/2025400879.py:109: FutureWarning: Passing literal html to 'read_html' is deprecated and will be removed in a future version. To read from a literal string, wrap it in a 'StringIO' object.\n",
      "  df = pd.read_html(str(table))[0]\n"
     ]
    },
    {
     "name": "stdout",
     "output_type": "stream",
     "text": [
      "Fetching Serie A [passing] stats...\n"
     ]
    },
    {
     "name": "stderr",
     "output_type": "stream",
     "text": [
      "/var/folders/mp/l7pc43ln25l8vb_t3fc17rlm0000gn/T/ipykernel_61658/2025400879.py:109: FutureWarning: Passing literal html to 'read_html' is deprecated and will be removed in a future version. To read from a literal string, wrap it in a 'StringIO' object.\n",
      "  df = pd.read_html(str(table))[0]\n"
     ]
    },
    {
     "name": "stdout",
     "output_type": "stream",
     "text": [
      "Fetching Ligue 1 [passing] stats...\n"
     ]
    },
    {
     "name": "stderr",
     "output_type": "stream",
     "text": [
      "/var/folders/mp/l7pc43ln25l8vb_t3fc17rlm0000gn/T/ipykernel_61658/2025400879.py:109: FutureWarning: Passing literal html to 'read_html' is deprecated and will be removed in a future version. To read from a literal string, wrap it in a 'StringIO' object.\n",
      "  df = pd.read_html(str(table))[0]\n"
     ]
    },
    {
     "name": "stdout",
     "output_type": "stream",
     "text": [
      "Saved passing stats: 2966 rows\n",
      "Fetching Premier League [gca] stats...\n"
     ]
    },
    {
     "name": "stderr",
     "output_type": "stream",
     "text": [
      "/var/folders/mp/l7pc43ln25l8vb_t3fc17rlm0000gn/T/ipykernel_61658/2025400879.py:109: FutureWarning: Passing literal html to 'read_html' is deprecated and will be removed in a future version. To read from a literal string, wrap it in a 'StringIO' object.\n",
      "  df = pd.read_html(str(table))[0]\n"
     ]
    },
    {
     "name": "stdout",
     "output_type": "stream",
     "text": [
      "Fetching La Liga [gca] stats...\n"
     ]
    },
    {
     "name": "stderr",
     "output_type": "stream",
     "text": [
      "/var/folders/mp/l7pc43ln25l8vb_t3fc17rlm0000gn/T/ipykernel_61658/2025400879.py:109: FutureWarning: Passing literal html to 'read_html' is deprecated and will be removed in a future version. To read from a literal string, wrap it in a 'StringIO' object.\n",
      "  df = pd.read_html(str(table))[0]\n"
     ]
    },
    {
     "name": "stdout",
     "output_type": "stream",
     "text": [
      "Fetching Bundesliga [gca] stats...\n"
     ]
    },
    {
     "name": "stderr",
     "output_type": "stream",
     "text": [
      "/var/folders/mp/l7pc43ln25l8vb_t3fc17rlm0000gn/T/ipykernel_61658/2025400879.py:109: FutureWarning: Passing literal html to 'read_html' is deprecated and will be removed in a future version. To read from a literal string, wrap it in a 'StringIO' object.\n",
      "  df = pd.read_html(str(table))[0]\n"
     ]
    },
    {
     "name": "stdout",
     "output_type": "stream",
     "text": [
      "Fetching Serie A [gca] stats...\n"
     ]
    },
    {
     "name": "stderr",
     "output_type": "stream",
     "text": [
      "/var/folders/mp/l7pc43ln25l8vb_t3fc17rlm0000gn/T/ipykernel_61658/2025400879.py:109: FutureWarning: Passing literal html to 'read_html' is deprecated and will be removed in a future version. To read from a literal string, wrap it in a 'StringIO' object.\n",
      "  df = pd.read_html(str(table))[0]\n"
     ]
    },
    {
     "name": "stdout",
     "output_type": "stream",
     "text": [
      "Fetching Ligue 1 [gca] stats...\n"
     ]
    },
    {
     "name": "stderr",
     "output_type": "stream",
     "text": [
      "/var/folders/mp/l7pc43ln25l8vb_t3fc17rlm0000gn/T/ipykernel_61658/2025400879.py:109: FutureWarning: Passing literal html to 'read_html' is deprecated and will be removed in a future version. To read from a literal string, wrap it in a 'StringIO' object.\n",
      "  df = pd.read_html(str(table))[0]\n"
     ]
    },
    {
     "name": "stdout",
     "output_type": "stream",
     "text": [
      "Saved gca stats: 2966 rows\n",
      "Fetching Premier League [defense] stats...\n"
     ]
    },
    {
     "name": "stderr",
     "output_type": "stream",
     "text": [
      "/var/folders/mp/l7pc43ln25l8vb_t3fc17rlm0000gn/T/ipykernel_61658/2025400879.py:109: FutureWarning: Passing literal html to 'read_html' is deprecated and will be removed in a future version. To read from a literal string, wrap it in a 'StringIO' object.\n",
      "  df = pd.read_html(str(table))[0]\n"
     ]
    },
    {
     "name": "stdout",
     "output_type": "stream",
     "text": [
      "Fetching La Liga [defense] stats...\n"
     ]
    },
    {
     "name": "stderr",
     "output_type": "stream",
     "text": [
      "/var/folders/mp/l7pc43ln25l8vb_t3fc17rlm0000gn/T/ipykernel_61658/2025400879.py:109: FutureWarning: Passing literal html to 'read_html' is deprecated and will be removed in a future version. To read from a literal string, wrap it in a 'StringIO' object.\n",
      "  df = pd.read_html(str(table))[0]\n"
     ]
    },
    {
     "name": "stdout",
     "output_type": "stream",
     "text": [
      "Fetching Bundesliga [defense] stats...\n"
     ]
    },
    {
     "name": "stderr",
     "output_type": "stream",
     "text": [
      "/var/folders/mp/l7pc43ln25l8vb_t3fc17rlm0000gn/T/ipykernel_61658/2025400879.py:109: FutureWarning: Passing literal html to 'read_html' is deprecated and will be removed in a future version. To read from a literal string, wrap it in a 'StringIO' object.\n",
      "  df = pd.read_html(str(table))[0]\n"
     ]
    },
    {
     "name": "stdout",
     "output_type": "stream",
     "text": [
      "Fetching Serie A [defense] stats...\n"
     ]
    },
    {
     "name": "stderr",
     "output_type": "stream",
     "text": [
      "/var/folders/mp/l7pc43ln25l8vb_t3fc17rlm0000gn/T/ipykernel_61658/2025400879.py:109: FutureWarning: Passing literal html to 'read_html' is deprecated and will be removed in a future version. To read from a literal string, wrap it in a 'StringIO' object.\n",
      "  df = pd.read_html(str(table))[0]\n"
     ]
    },
    {
     "name": "stdout",
     "output_type": "stream",
     "text": [
      "Fetching Ligue 1 [defense] stats...\n"
     ]
    },
    {
     "name": "stderr",
     "output_type": "stream",
     "text": [
      "/var/folders/mp/l7pc43ln25l8vb_t3fc17rlm0000gn/T/ipykernel_61658/2025400879.py:109: FutureWarning: Passing literal html to 'read_html' is deprecated and will be removed in a future version. To read from a literal string, wrap it in a 'StringIO' object.\n",
      "  df = pd.read_html(str(table))[0]\n"
     ]
    },
    {
     "name": "stdout",
     "output_type": "stream",
     "text": [
      "Saved defense stats: 2966 rows\n",
      "Fetching Premier League [possession] stats...\n"
     ]
    },
    {
     "name": "stderr",
     "output_type": "stream",
     "text": [
      "/var/folders/mp/l7pc43ln25l8vb_t3fc17rlm0000gn/T/ipykernel_61658/2025400879.py:109: FutureWarning: Passing literal html to 'read_html' is deprecated and will be removed in a future version. To read from a literal string, wrap it in a 'StringIO' object.\n",
      "  df = pd.read_html(str(table))[0]\n"
     ]
    },
    {
     "name": "stdout",
     "output_type": "stream",
     "text": [
      "Fetching La Liga [possession] stats...\n"
     ]
    },
    {
     "name": "stderr",
     "output_type": "stream",
     "text": [
      "/var/folders/mp/l7pc43ln25l8vb_t3fc17rlm0000gn/T/ipykernel_61658/2025400879.py:109: FutureWarning: Passing literal html to 'read_html' is deprecated and will be removed in a future version. To read from a literal string, wrap it in a 'StringIO' object.\n",
      "  df = pd.read_html(str(table))[0]\n"
     ]
    },
    {
     "name": "stdout",
     "output_type": "stream",
     "text": [
      "Fetching Bundesliga [possession] stats...\n"
     ]
    },
    {
     "name": "stderr",
     "output_type": "stream",
     "text": [
      "/var/folders/mp/l7pc43ln25l8vb_t3fc17rlm0000gn/T/ipykernel_61658/2025400879.py:109: FutureWarning: Passing literal html to 'read_html' is deprecated and will be removed in a future version. To read from a literal string, wrap it in a 'StringIO' object.\n",
      "  df = pd.read_html(str(table))[0]\n"
     ]
    },
    {
     "name": "stdout",
     "output_type": "stream",
     "text": [
      "Fetching Serie A [possession] stats...\n"
     ]
    },
    {
     "name": "stderr",
     "output_type": "stream",
     "text": [
      "/var/folders/mp/l7pc43ln25l8vb_t3fc17rlm0000gn/T/ipykernel_61658/2025400879.py:109: FutureWarning: Passing literal html to 'read_html' is deprecated and will be removed in a future version. To read from a literal string, wrap it in a 'StringIO' object.\n",
      "  df = pd.read_html(str(table))[0]\n"
     ]
    },
    {
     "name": "stdout",
     "output_type": "stream",
     "text": [
      "Fetching Ligue 1 [possession] stats...\n"
     ]
    },
    {
     "name": "stderr",
     "output_type": "stream",
     "text": [
      "/var/folders/mp/l7pc43ln25l8vb_t3fc17rlm0000gn/T/ipykernel_61658/2025400879.py:109: FutureWarning: Passing literal html to 'read_html' is deprecated and will be removed in a future version. To read from a literal string, wrap it in a 'StringIO' object.\n",
      "  df = pd.read_html(str(table))[0]\n"
     ]
    },
    {
     "name": "stdout",
     "output_type": "stream",
     "text": [
      "Saved possession stats: 2966 rows\n",
      "Fetching Premier League [misc] stats...\n"
     ]
    },
    {
     "name": "stderr",
     "output_type": "stream",
     "text": [
      "/var/folders/mp/l7pc43ln25l8vb_t3fc17rlm0000gn/T/ipykernel_61658/2025400879.py:109: FutureWarning: Passing literal html to 'read_html' is deprecated and will be removed in a future version. To read from a literal string, wrap it in a 'StringIO' object.\n",
      "  df = pd.read_html(str(table))[0]\n"
     ]
    },
    {
     "name": "stdout",
     "output_type": "stream",
     "text": [
      "Fetching La Liga [misc] stats...\n"
     ]
    },
    {
     "name": "stderr",
     "output_type": "stream",
     "text": [
      "/var/folders/mp/l7pc43ln25l8vb_t3fc17rlm0000gn/T/ipykernel_61658/2025400879.py:109: FutureWarning: Passing literal html to 'read_html' is deprecated and will be removed in a future version. To read from a literal string, wrap it in a 'StringIO' object.\n",
      "  df = pd.read_html(str(table))[0]\n"
     ]
    },
    {
     "name": "stdout",
     "output_type": "stream",
     "text": [
      "Fetching Bundesliga [misc] stats...\n"
     ]
    },
    {
     "name": "stderr",
     "output_type": "stream",
     "text": [
      "/var/folders/mp/l7pc43ln25l8vb_t3fc17rlm0000gn/T/ipykernel_61658/2025400879.py:109: FutureWarning: Passing literal html to 'read_html' is deprecated and will be removed in a future version. To read from a literal string, wrap it in a 'StringIO' object.\n",
      "  df = pd.read_html(str(table))[0]\n"
     ]
    },
    {
     "name": "stdout",
     "output_type": "stream",
     "text": [
      "Fetching Serie A [misc] stats...\n"
     ]
    },
    {
     "name": "stderr",
     "output_type": "stream",
     "text": [
      "/var/folders/mp/l7pc43ln25l8vb_t3fc17rlm0000gn/T/ipykernel_61658/2025400879.py:109: FutureWarning: Passing literal html to 'read_html' is deprecated and will be removed in a future version. To read from a literal string, wrap it in a 'StringIO' object.\n",
      "  df = pd.read_html(str(table))[0]\n"
     ]
    },
    {
     "name": "stdout",
     "output_type": "stream",
     "text": [
      "Fetching Ligue 1 [misc] stats...\n",
      "Saved misc stats: 2966 rows\n",
      "  Unnamed: 0_level_0 Unnamed: 1_level_0 Unnamed: 2_level_0 Unnamed: 3_level_0  \\\n",
      "               Squad               # Pl                Age               Poss   \n",
      "0            Arsenal                 25               25.8               56.9   \n",
      "1        Aston Villa                 28               27.0               50.5   \n",
      "2        Bournemouth                 29               25.1               48.5   \n",
      "3          Brentford                 28               25.8               47.9   \n",
      "4           Brighton                 32               24.8               52.3   \n",
      "\n",
      "  Playing Time                    Performance      ... Per 90 Minutes        \\\n",
      "            MP Starts   Min   90s         Gls Ast  ...            G+A  G-PK   \n",
      "0           38    418  3420  38.0          67  55  ...           3.21  1.71   \n",
      "1           38    418  3420  38.0          56  45  ...           2.66  1.39   \n",
      "2           38    418  3420  38.0          57  41  ...           2.58  1.34   \n",
      "3           38    418  3420  38.0          65  44  ...           2.87  1.58   \n",
      "4           38    418  3420  38.0          64  41  ...           2.76  1.50   \n",
      "\n",
      "                                                    League  Category  \n",
      "  G+A-PK    xG   xAG xG+xAG  npxG npxG+xAG                            \n",
      "0   3.16  1.58  1.19   2.77  1.54     2.73  Premier League  standard  \n",
      "1   2.58  1.48  1.10   2.57  1.35     2.45  Premier League  standard  \n",
      "2   2.42  1.68  1.15   2.84  1.54     2.69  Premier League  standard  \n",
      "3   2.74  1.55  1.12   2.67  1.43     2.55  Premier League  standard  \n",
      "4   2.58  1.54  1.06   2.61  1.40     2.47  Premier League  standard  \n",
      "\n",
      "[5 rows x 34 columns]\n"
     ]
    },
    {
     "name": "stderr",
     "output_type": "stream",
     "text": [
      "/var/folders/mp/l7pc43ln25l8vb_t3fc17rlm0000gn/T/ipykernel_61658/2025400879.py:109: FutureWarning: Passing literal html to 'read_html' is deprecated and will be removed in a future version. To read from a literal string, wrap it in a 'StringIO' object.\n",
      "  df = pd.read_html(str(table))[0]\n"
     ]
    }
   ],
   "source": [
    "import os\n",
    "import time\n",
    "import random\n",
    "import pandas as pd\n",
    "import cloudscraper\n",
    "from bs4 import BeautifulSoup, Comment\n",
    "import requests\n",
    "\n",
    "# Initialize cloudscraper session\n",
    "scraper = cloudscraper.create_scraper(\n",
    "    browser={\"browser\": \"chrome\", \"platform\": \"windows\", \"desktop\": True}\n",
    ")\n",
    "BASE_URL = \"https://fbref.com\"\n",
    "\n",
    "# Top-5 leagues: name -> comp_id\n",
    "LEAGUES = {\n",
    "    'Premier League': 9,\n",
    "    'La Liga':       12,\n",
    "    'Bundesliga':    20,\n",
    "    'Serie A':       11,\n",
    "    'Ligue 1':       13,\n",
    "}\n",
    "# Stats categories: key -> URL segment ('' means overall)\n",
    "CATEGORIES = {\n",
    "    'standard':    '',\n",
    "    'shooting':    'shooting',\n",
    "    'passing':     'passing',\n",
    "    'gca':         'gca',\n",
    "    'defense':     'defense',\n",
    "    'possession':  'possession',\n",
    "    'misc':        'misc',\n",
    "}\n",
    "\n",
    "# Request throttling and retry settings\n",
    "USER_AGENTS = [\n",
    "    'Mozilla/5.0 (Windows NT 10.0; Win64; x64) AppleWebKit/537.36 '\n",
    "    '(KHTML, like Gecko) Chrome/115.0.0.0 Safari/537.36',\n",
    "    'Mozilla/5.0 (Macintosh; Intel Mac OS X 13_4) AppleWebKit/605.1.15 '\n",
    "    '(KHTML, like Gecko) Version/16.5 Safari/605.1.15',\n",
    "    'Mozilla/5.0 (X11; Linux x86_64) AppleWebKit/537.36 '\n",
    "    '(KHTML, like Gecko) Chrome/114.0.0.0 Safari/537.36',\n",
    "    'Mozilla/5.0 (Windows NT 10.0; Win64; x64; rv:117.0) Gecko/20100101 Firefox/117.0',\n",
    "]\n",
    "PROXIES = []  # e.g. ['http://proxy1:port', ...]\n",
    "DELAY_MIN = 3\n",
    "DELAY_MAX = 6\n",
    "MAX_RETRIES = 5\n",
    "BACKOFF_FACTOR = 2\n",
    "\n",
    "\n",
    "def get_with_retries(url, referer=None):\n",
    "    \"\"\"\n",
    "    Fetch URL with retries on 429/network errors. Exponential backoff + jitter.\n",
    "    \"\"\"\n",
    "    last_err = None\n",
    "    for attempt in range(1, MAX_RETRIES + 1):\n",
    "        headers = {'User-Agent': random.choice(USER_AGENTS)}\n",
    "        if referer:\n",
    "            headers['Referer'] = referer\n",
    "        proxies = None\n",
    "        if PROXIES:\n",
    "            proxy = random.choice(PROXIES)\n",
    "            proxies = {'http': proxy, 'https': proxy}\n",
    "        try:\n",
    "            resp = scraper.get(url, headers=headers, proxies=proxies)\n",
    "            if resp.status_code == 429:\n",
    "                raise requests.exceptions.HTTPError('429 Too Many Requests')\n",
    "            resp.raise_for_status()\n",
    "            return resp\n",
    "        except Exception as e:\n",
    "            last_err = e\n",
    "            if attempt == MAX_RETRIES:\n",
    "                print(f\"[Error] {url} failed after {MAX_RETRIES} attempts: {e}\")\n",
    "                raise\n",
    "            wait = (BACKOFF_FACTOR ** (attempt - 1)) + random.uniform(0, 1)\n",
    "            print(f\"[Retry {attempt}] {url} error: {e}. Sleeping {wait:.1f}s...\")\n",
    "            time.sleep(wait)\n",
    "    raise last_err\n",
    "\n",
    "\n",
    "def scrape_league_category(league_name: str, comp_id: int, category_key: str) -> pd.DataFrame:\n",
    "    \"\"\"\n",
    "    Scrape player stats for one league and category.\n",
    "    Returns DataFrame with extra columns: League, Category.\n",
    "    \"\"\"\n",
    "    segment = CATEGORIES[category_key]\n",
    "    path = f\"{segment}/\" if segment else ''\n",
    "    # Build URL\n",
    "    url = f\"{BASE_URL}/en/comps/{comp_id}/{path}{league_name.replace(' ', '-')}-Stats\"\n",
    "    print(f\"Fetching {league_name} [{category_key}] stats...\")\n",
    "    time.sleep(random.uniform(DELAY_MIN, DELAY_MAX))\n",
    "    resp = get_with_retries(url)\n",
    "    soup = BeautifulSoup(resp.text, 'lxml')\n",
    "\n",
    "    # Target player stats table in commented block\n",
    "    block_id = f\"div_stats_{segment or 'standard'}\"\n",
    "    comment = soup.find(string=lambda t: isinstance(t, Comment) and block_id in t)\n",
    "    if comment:\n",
    "        tbl_soup = BeautifulSoup(comment, 'lxml')\n",
    "        table = tbl_soup.find('table')\n",
    "    else:\n",
    "        # fallback: first player stats table by id prefix\n",
    "        table = soup.find('table', id=lambda x: x and x.startswith('stats_'))\n",
    "\n",
    "    if table is None or not table.tbody:\n",
    "        print(f\"[Warning] No player table for {league_name} {category_key}\")\n",
    "        return pd.DataFrame()\n",
    "\n",
    "    df = pd.read_html(str(table))[0]\n",
    "    # Label league and category\n",
    "    df['League'] = league_name\n",
    "    df['Category'] = category_key\n",
    "    return df\n",
    "\n",
    "\n",
    "def scrape_all_categories():\n",
    "    \"\"\"\n",
    "    Scrape all categories across all leagues, saving each category into its own DataFrame and CSV.\n",
    "    Returns dict: category_key -> DataFrame\n",
    "    \"\"\"\n",
    "    os.makedirs('data', exist_ok=True)\n",
    "    category_dfs = {}\n",
    "    for category_key in CATEGORIES.keys():\n",
    "        frames = []\n",
    "        for league, comp_id in LEAGUES.items():\n",
    "            try:\n",
    "                df = scrape_league_category(league, comp_id, category_key)\n",
    "                if not df.empty:\n",
    "                    frames.append(df)\n",
    "            except Exception as e:\n",
    "                print(f\"Error scraping {league} {category_key}: {e}\")\n",
    "        # Combine leagues for this category\n",
    "        if frames:\n",
    "            cat_df = pd.concat(frames, ignore_index=True)\n",
    "        else:\n",
    "            cat_df = pd.DataFrame()\n",
    "        # Save to CSV\n",
    "        cat_df.to_csv(f\"data/{category_key}_player_stats.csv\", index=False)\n",
    "        category_dfs[category_key] = cat_df\n",
    "        print(f\"Saved {category_key} stats: {cat_df.shape[0]} rows\")\n",
    "    return category_dfs\n",
    "\n",
    "\n",
    "def main():\n",
    "    dfs = scrape_all_categories()\n",
    "    # Example access: dfs['defense'] for combined defensive stats\n",
    "    return dfs\n",
    "\n",
    "if __name__ == '__main__':\n",
    "    all_category_dfs = main()\n",
    "    # Print head of one category\n",
    "    print(all_category_dfs['standard'].head())\n"
   ]
  },
  {
   "cell_type": "code",
   "execution_count": 29,
   "metadata": {},
   "outputs": [
    {
     "data": {
      "text/html": [
       "<div>\n",
       "<style scoped>\n",
       "    .dataframe tbody tr th:only-of-type {\n",
       "        vertical-align: middle;\n",
       "    }\n",
       "\n",
       "    .dataframe tbody tr th {\n",
       "        vertical-align: top;\n",
       "    }\n",
       "\n",
       "    .dataframe thead th {\n",
       "        text-align: right;\n",
       "    }\n",
       "</style>\n",
       "<table border=\"1\" class=\"dataframe\">\n",
       "  <thead>\n",
       "    <tr style=\"text-align: right;\">\n",
       "      <th></th>\n",
       "      <th>Unnamed: 0_level_0</th>\n",
       "      <th>Unnamed: 1_level_0</th>\n",
       "      <th>Unnamed: 2_level_0</th>\n",
       "      <th>Unnamed: 3_level_0</th>\n",
       "      <th>Unnamed: 4_level_0</th>\n",
       "      <th>Unnamed: 5_level_0</th>\n",
       "      <th>Unnamed: 6_level_0</th>\n",
       "      <th>Unnamed: 7_level_0</th>\n",
       "      <th>SCA</th>\n",
       "      <th>SCA.1</th>\n",
       "      <th>...</th>\n",
       "      <th>GCA.1</th>\n",
       "      <th>GCA Types</th>\n",
       "      <th>GCA Types.1</th>\n",
       "      <th>GCA Types.2</th>\n",
       "      <th>GCA Types.3</th>\n",
       "      <th>GCA Types.4</th>\n",
       "      <th>GCA Types.5</th>\n",
       "      <th>Unnamed: 24_level_0</th>\n",
       "      <th>League</th>\n",
       "      <th>Category</th>\n",
       "    </tr>\n",
       "  </thead>\n",
       "  <tbody>\n",
       "    <tr>\n",
       "      <th>0</th>\n",
       "      <td>Rk</td>\n",
       "      <td>Player</td>\n",
       "      <td>Nation</td>\n",
       "      <td>Pos</td>\n",
       "      <td>Squad</td>\n",
       "      <td>Age</td>\n",
       "      <td>Born</td>\n",
       "      <td>90s</td>\n",
       "      <td>SCA</td>\n",
       "      <td>SCA90</td>\n",
       "      <td>...</td>\n",
       "      <td>GCA90</td>\n",
       "      <td>PassLive</td>\n",
       "      <td>PassDead</td>\n",
       "      <td>TO</td>\n",
       "      <td>Sh</td>\n",
       "      <td>Fld</td>\n",
       "      <td>Def</td>\n",
       "      <td>Matches</td>\n",
       "      <td>NaN</td>\n",
       "      <td>NaN</td>\n",
       "    </tr>\n",
       "    <tr>\n",
       "      <th>1</th>\n",
       "      <td>1</td>\n",
       "      <td>Max Aarons</td>\n",
       "      <td>eng ENG</td>\n",
       "      <td>DF</td>\n",
       "      <td>Bournemouth</td>\n",
       "      <td>24</td>\n",
       "      <td>2000</td>\n",
       "      <td>1.0</td>\n",
       "      <td>2</td>\n",
       "      <td>2.09</td>\n",
       "      <td>...</td>\n",
       "      <td>0.00</td>\n",
       "      <td>0</td>\n",
       "      <td>0</td>\n",
       "      <td>0</td>\n",
       "      <td>0</td>\n",
       "      <td>0</td>\n",
       "      <td>0</td>\n",
       "      <td>Matches</td>\n",
       "      <td>Premier League</td>\n",
       "      <td>gca</td>\n",
       "    </tr>\n",
       "    <tr>\n",
       "      <th>2</th>\n",
       "      <td>2</td>\n",
       "      <td>Joshua Acheampong</td>\n",
       "      <td>eng ENG</td>\n",
       "      <td>DF</td>\n",
       "      <td>Chelsea</td>\n",
       "      <td>18</td>\n",
       "      <td>2006</td>\n",
       "      <td>1.9</td>\n",
       "      <td>2</td>\n",
       "      <td>1.06</td>\n",
       "      <td>...</td>\n",
       "      <td>0.00</td>\n",
       "      <td>0</td>\n",
       "      <td>0</td>\n",
       "      <td>0</td>\n",
       "      <td>0</td>\n",
       "      <td>0</td>\n",
       "      <td>0</td>\n",
       "      <td>Matches</td>\n",
       "      <td>Premier League</td>\n",
       "      <td>gca</td>\n",
       "    </tr>\n",
       "    <tr>\n",
       "      <th>3</th>\n",
       "      <td>3</td>\n",
       "      <td>Tyler Adams</td>\n",
       "      <td>us USA</td>\n",
       "      <td>MF</td>\n",
       "      <td>Bournemouth</td>\n",
       "      <td>25</td>\n",
       "      <td>1999</td>\n",
       "      <td>21.8</td>\n",
       "      <td>41</td>\n",
       "      <td>1.88</td>\n",
       "      <td>...</td>\n",
       "      <td>0.18</td>\n",
       "      <td>3</td>\n",
       "      <td>0</td>\n",
       "      <td>0</td>\n",
       "      <td>0</td>\n",
       "      <td>0</td>\n",
       "      <td>1</td>\n",
       "      <td>Matches</td>\n",
       "      <td>Premier League</td>\n",
       "      <td>gca</td>\n",
       "    </tr>\n",
       "    <tr>\n",
       "      <th>4</th>\n",
       "      <td>4</td>\n",
       "      <td>Tosin Adarabioyo</td>\n",
       "      <td>eng ENG</td>\n",
       "      <td>DF</td>\n",
       "      <td>Chelsea</td>\n",
       "      <td>26</td>\n",
       "      <td>1997</td>\n",
       "      <td>15.7</td>\n",
       "      <td>15</td>\n",
       "      <td>0.96</td>\n",
       "      <td>...</td>\n",
       "      <td>0.06</td>\n",
       "      <td>0</td>\n",
       "      <td>0</td>\n",
       "      <td>0</td>\n",
       "      <td>1</td>\n",
       "      <td>0</td>\n",
       "      <td>0</td>\n",
       "      <td>Matches</td>\n",
       "      <td>Premier League</td>\n",
       "      <td>gca</td>\n",
       "    </tr>\n",
       "  </tbody>\n",
       "</table>\n",
       "<p>5 rows × 27 columns</p>\n",
       "</div>"
      ],
      "text/plain": [
       "  Unnamed: 0_level_0 Unnamed: 1_level_0 Unnamed: 2_level_0 Unnamed: 3_level_0  \\\n",
       "0                 Rk             Player             Nation                Pos   \n",
       "1                  1         Max Aarons            eng ENG                 DF   \n",
       "2                  2  Joshua Acheampong            eng ENG                 DF   \n",
       "3                  3        Tyler Adams             us USA                 MF   \n",
       "4                  4   Tosin Adarabioyo            eng ENG                 DF   \n",
       "\n",
       "  Unnamed: 4_level_0 Unnamed: 5_level_0 Unnamed: 6_level_0 Unnamed: 7_level_0  \\\n",
       "0              Squad                Age               Born                90s   \n",
       "1        Bournemouth                 24               2000                1.0   \n",
       "2            Chelsea                 18               2006                1.9   \n",
       "3        Bournemouth                 25               1999               21.8   \n",
       "4            Chelsea                 26               1997               15.7   \n",
       "\n",
       "   SCA  SCA.1  ...  GCA.1 GCA Types GCA Types.1 GCA Types.2 GCA Types.3  \\\n",
       "0  SCA  SCA90  ...  GCA90  PassLive    PassDead          TO          Sh   \n",
       "1    2   2.09  ...   0.00         0           0           0           0   \n",
       "2    2   1.06  ...   0.00         0           0           0           0   \n",
       "3   41   1.88  ...   0.18         3           0           0           0   \n",
       "4   15   0.96  ...   0.06         0           0           0           1   \n",
       "\n",
       "  GCA Types.4 GCA Types.5 Unnamed: 24_level_0          League Category  \n",
       "0         Fld         Def             Matches             NaN      NaN  \n",
       "1           0           0             Matches  Premier League      gca  \n",
       "2           0           0             Matches  Premier League      gca  \n",
       "3           0           1             Matches  Premier League      gca  \n",
       "4           0           0             Matches  Premier League      gca  \n",
       "\n",
       "[5 rows x 27 columns]"
      ]
     },
     "execution_count": 29,
     "metadata": {},
     "output_type": "execute_result"
    }
   ],
   "source": [
    "gca_df.head()"
   ]
  },
  {
   "cell_type": "code",
   "execution_count": 14,
   "metadata": {},
   "outputs": [],
   "source": [
    "gca_df = pd.read_csv('data/gca_player_stats.csv')\n",
    "defense_df = pd.read_csv('data/defense_player_stats.csv')\n",
    "misc_df = pd.read_csv('data/misc_player_stats.csv')\n",
    "passing_df = pd.read_csv('data/passing_player_stats.csv')\n",
    "possession_df = pd.read_csv('data/possession_player_stats.csv')\n",
    "shooting_df = pd.read_csv('data/shooting_player_stats.csv')\n"
   ]
  },
  {
   "cell_type": "code",
   "execution_count": 30,
   "metadata": {},
   "outputs": [
    {
     "ename": "KeyError",
     "evalue": "'Unnamed: 1_level_0'",
     "output_type": "error",
     "traceback": [
      "\u001b[0;31m---------------------------------------------------------------------------\u001b[0m",
      "\u001b[0;31mKeyError\u001b[0m                                  Traceback (most recent call last)",
      "Cell \u001b[0;32mIn[30], line 3\u001b[0m\n\u001b[1;32m      1\u001b[0m overall_df \u001b[38;5;241m=\u001b[39m pd\u001b[38;5;241m.\u001b[39mDataFrame()\n\u001b[0;32m----> 3\u001b[0m overall_df[\u001b[38;5;124m'\u001b[39m\u001b[38;5;124mUnnamed: 1_level_0\u001b[39m\u001b[38;5;124m'\u001b[39m] \u001b[38;5;241m=\u001b[39m \u001b[43moverall_df\u001b[49m\u001b[43m[\u001b[49m\u001b[38;5;124;43m'\u001b[39;49m\u001b[38;5;124;43mUnnamed: 1_level_0\u001b[39;49m\u001b[38;5;124;43m'\u001b[39;49m\u001b[43m]\u001b[49m\u001b[38;5;241m.\u001b[39mstr\u001b[38;5;241m.\u001b[39mreplace(\u001b[38;5;124m'\u001b[39m\u001b[38;5;124m*\u001b[39m\u001b[38;5;124m'\u001b[39m, \u001b[38;5;124m'\u001b[39m\u001b[38;5;124m'\u001b[39m)\n\u001b[1;32m      4\u001b[0m overall_df[\u001b[38;5;124m'\u001b[39m\u001b[38;5;124mUnnamed: 4_level_0\u001b[39m\u001b[38;5;124m'\u001b[39m] \u001b[38;5;241m=\u001b[39m overall_df[\u001b[38;5;124m'\u001b[39m\u001b[38;5;124mUnnamed: 4_level_0\u001b[39m\u001b[38;5;124m'\u001b[39m]\u001b[38;5;241m.\u001b[39mstr\u001b[38;5;241m.\u001b[39mreplace(\u001b[38;5;124m'\u001b[39m\u001b[38;5;124m*\u001b[39m\u001b[38;5;124m'\u001b[39m, \u001b[38;5;124m'\u001b[39m\u001b[38;5;124m'\u001b[39m)\n\u001b[1;32m      6\u001b[0m \u001b[38;5;28;01mfor\u001b[39;00m df \u001b[38;5;129;01min\u001b[39;00m [gca_df, defense_df, misc_df, passing_df, possession_df, shooting_df]:\n",
      "File \u001b[0;32m/Library/Frameworks/Python.framework/Versions/3.13/lib/python3.13/site-packages/pandas/core/frame.py:4102\u001b[0m, in \u001b[0;36mDataFrame.__getitem__\u001b[0;34m(self, key)\u001b[0m\n\u001b[1;32m   4100\u001b[0m \u001b[38;5;28;01mif\u001b[39;00m \u001b[38;5;28mself\u001b[39m\u001b[38;5;241m.\u001b[39mcolumns\u001b[38;5;241m.\u001b[39mnlevels \u001b[38;5;241m>\u001b[39m \u001b[38;5;241m1\u001b[39m:\n\u001b[1;32m   4101\u001b[0m     \u001b[38;5;28;01mreturn\u001b[39;00m \u001b[38;5;28mself\u001b[39m\u001b[38;5;241m.\u001b[39m_getitem_multilevel(key)\n\u001b[0;32m-> 4102\u001b[0m indexer \u001b[38;5;241m=\u001b[39m \u001b[38;5;28;43mself\u001b[39;49m\u001b[38;5;241;43m.\u001b[39;49m\u001b[43mcolumns\u001b[49m\u001b[38;5;241;43m.\u001b[39;49m\u001b[43mget_loc\u001b[49m\u001b[43m(\u001b[49m\u001b[43mkey\u001b[49m\u001b[43m)\u001b[49m\n\u001b[1;32m   4103\u001b[0m \u001b[38;5;28;01mif\u001b[39;00m is_integer(indexer):\n\u001b[1;32m   4104\u001b[0m     indexer \u001b[38;5;241m=\u001b[39m [indexer]\n",
      "File \u001b[0;32m/Library/Frameworks/Python.framework/Versions/3.13/lib/python3.13/site-packages/pandas/core/indexes/range.py:417\u001b[0m, in \u001b[0;36mRangeIndex.get_loc\u001b[0;34m(self, key)\u001b[0m\n\u001b[1;32m    415\u001b[0m         \u001b[38;5;28;01mraise\u001b[39;00m \u001b[38;5;167;01mKeyError\u001b[39;00m(key) \u001b[38;5;28;01mfrom\u001b[39;00m \u001b[38;5;21;01merr\u001b[39;00m\n\u001b[1;32m    416\u001b[0m \u001b[38;5;28;01mif\u001b[39;00m \u001b[38;5;28misinstance\u001b[39m(key, Hashable):\n\u001b[0;32m--> 417\u001b[0m     \u001b[38;5;28;01mraise\u001b[39;00m \u001b[38;5;167;01mKeyError\u001b[39;00m(key)\n\u001b[1;32m    418\u001b[0m \u001b[38;5;28mself\u001b[39m\u001b[38;5;241m.\u001b[39m_check_indexing_error(key)\n\u001b[1;32m    419\u001b[0m \u001b[38;5;28;01mraise\u001b[39;00m \u001b[38;5;167;01mKeyError\u001b[39;00m(key)\n",
      "\u001b[0;31mKeyError\u001b[0m: 'Unnamed: 1_level_0'"
     ]
    }
   ],
   "source": [
    "overall_df = pd.DataFrame()\n",
    "\n",
    "overall_df['Unnamed: 1_level_0'] = overall_df['Unnamed: 1_level_0']\n",
    "overall_df['Unnamed: 4_level_0'] = overall_df['Unnamed: 4_level_0']\n",
    "\n",
    "for df in [gca_df, defense_df, misc_df, passing_df, possession_df, shooting_df]:\n",
    "    overall_df = pd.merge(overall_df, df, on=['Unnamed: 1_level_0', 'Unnamed: 4_level_0'], how='left')\n",
    "    overall_df.drop(columns=['Unnamed: 0_x', 'Unnamed: 0_y'], inplace=True)\n",
    "\n",
    "overall_df.head(30)"
   ]
  },
  {
   "cell_type": "code",
   "execution_count": 36,
   "metadata": {},
   "outputs": [],
   "source": [
    "all_dfs = [gca_df, defense_df, misc_df, passing_df, possession_df, shooting_df]\n",
    "\n",
    "for df in all_dfs:\n",
    "    for column in df.columns:\n",
    "        column = df[column].iloc[0]\n",
    "    df.drop(index=0, inplace=True)"
   ]
  },
  {
   "cell_type": "code",
   "execution_count": 37,
   "metadata": {},
   "outputs": [
    {
     "data": {
      "text/html": [
       "<div>\n",
       "<style scoped>\n",
       "    .dataframe tbody tr th:only-of-type {\n",
       "        vertical-align: middle;\n",
       "    }\n",
       "\n",
       "    .dataframe tbody tr th {\n",
       "        vertical-align: top;\n",
       "    }\n",
       "\n",
       "    .dataframe thead th {\n",
       "        text-align: right;\n",
       "    }\n",
       "</style>\n",
       "<table border=\"1\" class=\"dataframe\">\n",
       "  <thead>\n",
       "    <tr style=\"text-align: right;\">\n",
       "      <th></th>\n",
       "      <th>Unnamed: 0_level_0</th>\n",
       "      <th>Unnamed: 1_level_0</th>\n",
       "      <th>Unnamed: 2_level_0</th>\n",
       "      <th>Unnamed: 3_level_0</th>\n",
       "      <th>Unnamed: 4_level_0</th>\n",
       "      <th>Unnamed: 5_level_0</th>\n",
       "      <th>Unnamed: 6_level_0</th>\n",
       "      <th>Unnamed: 7_level_0</th>\n",
       "      <th>SCA</th>\n",
       "      <th>SCA.1</th>\n",
       "      <th>...</th>\n",
       "      <th>GCA.1</th>\n",
       "      <th>GCA Types</th>\n",
       "      <th>GCA Types.1</th>\n",
       "      <th>GCA Types.2</th>\n",
       "      <th>GCA Types.3</th>\n",
       "      <th>GCA Types.4</th>\n",
       "      <th>GCA Types.5</th>\n",
       "      <th>Unnamed: 24_level_0</th>\n",
       "      <th>League</th>\n",
       "      <th>Category</th>\n",
       "    </tr>\n",
       "  </thead>\n",
       "  <tbody>\n",
       "    <tr>\n",
       "      <th>1</th>\n",
       "      <td>1</td>\n",
       "      <td>Max Aarons</td>\n",
       "      <td>eng ENG</td>\n",
       "      <td>DF</td>\n",
       "      <td>Bournemouth</td>\n",
       "      <td>24</td>\n",
       "      <td>2000</td>\n",
       "      <td>1.0</td>\n",
       "      <td>2</td>\n",
       "      <td>2.09</td>\n",
       "      <td>...</td>\n",
       "      <td>0.00</td>\n",
       "      <td>0</td>\n",
       "      <td>0</td>\n",
       "      <td>0</td>\n",
       "      <td>0</td>\n",
       "      <td>0</td>\n",
       "      <td>0</td>\n",
       "      <td>Matches</td>\n",
       "      <td>Premier League</td>\n",
       "      <td>gca</td>\n",
       "    </tr>\n",
       "    <tr>\n",
       "      <th>2</th>\n",
       "      <td>2</td>\n",
       "      <td>Joshua Acheampong</td>\n",
       "      <td>eng ENG</td>\n",
       "      <td>DF</td>\n",
       "      <td>Chelsea</td>\n",
       "      <td>18</td>\n",
       "      <td>2006</td>\n",
       "      <td>1.9</td>\n",
       "      <td>2</td>\n",
       "      <td>1.06</td>\n",
       "      <td>...</td>\n",
       "      <td>0.00</td>\n",
       "      <td>0</td>\n",
       "      <td>0</td>\n",
       "      <td>0</td>\n",
       "      <td>0</td>\n",
       "      <td>0</td>\n",
       "      <td>0</td>\n",
       "      <td>Matches</td>\n",
       "      <td>Premier League</td>\n",
       "      <td>gca</td>\n",
       "    </tr>\n",
       "    <tr>\n",
       "      <th>3</th>\n",
       "      <td>3</td>\n",
       "      <td>Tyler Adams</td>\n",
       "      <td>us USA</td>\n",
       "      <td>MF</td>\n",
       "      <td>Bournemouth</td>\n",
       "      <td>25</td>\n",
       "      <td>1999</td>\n",
       "      <td>21.8</td>\n",
       "      <td>41</td>\n",
       "      <td>1.88</td>\n",
       "      <td>...</td>\n",
       "      <td>0.18</td>\n",
       "      <td>3</td>\n",
       "      <td>0</td>\n",
       "      <td>0</td>\n",
       "      <td>0</td>\n",
       "      <td>0</td>\n",
       "      <td>1</td>\n",
       "      <td>Matches</td>\n",
       "      <td>Premier League</td>\n",
       "      <td>gca</td>\n",
       "    </tr>\n",
       "    <tr>\n",
       "      <th>4</th>\n",
       "      <td>4</td>\n",
       "      <td>Tosin Adarabioyo</td>\n",
       "      <td>eng ENG</td>\n",
       "      <td>DF</td>\n",
       "      <td>Chelsea</td>\n",
       "      <td>26</td>\n",
       "      <td>1997</td>\n",
       "      <td>15.7</td>\n",
       "      <td>15</td>\n",
       "      <td>0.96</td>\n",
       "      <td>...</td>\n",
       "      <td>0.06</td>\n",
       "      <td>0</td>\n",
       "      <td>0</td>\n",
       "      <td>0</td>\n",
       "      <td>1</td>\n",
       "      <td>0</td>\n",
       "      <td>0</td>\n",
       "      <td>Matches</td>\n",
       "      <td>Premier League</td>\n",
       "      <td>gca</td>\n",
       "    </tr>\n",
       "    <tr>\n",
       "      <th>5</th>\n",
       "      <td>5</td>\n",
       "      <td>Simon Adingra</td>\n",
       "      <td>ci CIV</td>\n",
       "      <td>FW,MF</td>\n",
       "      <td>Brighton</td>\n",
       "      <td>22</td>\n",
       "      <td>2002</td>\n",
       "      <td>12.2</td>\n",
       "      <td>47</td>\n",
       "      <td>3.86</td>\n",
       "      <td>...</td>\n",
       "      <td>0.57</td>\n",
       "      <td>5</td>\n",
       "      <td>0</td>\n",
       "      <td>1</td>\n",
       "      <td>1</td>\n",
       "      <td>0</td>\n",
       "      <td>0</td>\n",
       "      <td>Matches</td>\n",
       "      <td>Premier League</td>\n",
       "      <td>gca</td>\n",
       "    </tr>\n",
       "  </tbody>\n",
       "</table>\n",
       "<p>5 rows × 27 columns</p>\n",
       "</div>"
      ],
      "text/plain": [
       "  Unnamed: 0_level_0 Unnamed: 1_level_0 Unnamed: 2_level_0 Unnamed: 3_level_0  \\\n",
       "1                  1         Max Aarons            eng ENG                 DF   \n",
       "2                  2  Joshua Acheampong            eng ENG                 DF   \n",
       "3                  3        Tyler Adams             us USA                 MF   \n",
       "4                  4   Tosin Adarabioyo            eng ENG                 DF   \n",
       "5                  5      Simon Adingra             ci CIV              FW,MF   \n",
       "\n",
       "  Unnamed: 4_level_0 Unnamed: 5_level_0 Unnamed: 6_level_0 Unnamed: 7_level_0  \\\n",
       "1        Bournemouth                 24               2000                1.0   \n",
       "2            Chelsea                 18               2006                1.9   \n",
       "3        Bournemouth                 25               1999               21.8   \n",
       "4            Chelsea                 26               1997               15.7   \n",
       "5           Brighton                 22               2002               12.2   \n",
       "\n",
       "  SCA SCA.1  ... GCA.1 GCA Types GCA Types.1 GCA Types.2 GCA Types.3  \\\n",
       "1   2  2.09  ...  0.00         0           0           0           0   \n",
       "2   2  1.06  ...  0.00         0           0           0           0   \n",
       "3  41  1.88  ...  0.18         3           0           0           0   \n",
       "4  15  0.96  ...  0.06         0           0           0           1   \n",
       "5  47  3.86  ...  0.57         5           0           1           1   \n",
       "\n",
       "  GCA Types.4 GCA Types.5 Unnamed: 24_level_0          League Category  \n",
       "1           0           0             Matches  Premier League      gca  \n",
       "2           0           0             Matches  Premier League      gca  \n",
       "3           0           1             Matches  Premier League      gca  \n",
       "4           0           0             Matches  Premier League      gca  \n",
       "5           0           0             Matches  Premier League      gca  \n",
       "\n",
       "[5 rows x 27 columns]"
      ]
     },
     "execution_count": 37,
     "metadata": {},
     "output_type": "execute_result"
    }
   ],
   "source": [
    "gca_df.head()"
   ]
  },
  {
   "cell_type": "code",
   "execution_count": null,
   "metadata": {},
   "outputs": [],
   "source": []
  }
 ],
 "metadata": {
  "kernelspec": {
   "display_name": "Python 3",
   "language": "python",
   "name": "python3"
  },
  "language_info": {
   "codemirror_mode": {
    "name": "ipython",
    "version": 3
   },
   "file_extension": ".py",
   "mimetype": "text/x-python",
   "name": "python",
   "nbconvert_exporter": "python",
   "pygments_lexer": "ipython3",
   "version": "3.13.0"
  }
 },
 "nbformat": 4,
 "nbformat_minor": 2
}
