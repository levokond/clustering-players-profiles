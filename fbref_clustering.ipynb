{
 "cells": [
  {
   "cell_type": "code",
   "execution_count": 47,
   "metadata": {},
   "outputs": [
    {
     "name": "stdout",
     "output_type": "stream",
     "text": [
      "Scraping Premier League overall stats...\n"
     ]
    },
    {
     "name": "stderr",
     "output_type": "stream",
     "text": [
      "/var/folders/mp/l7pc43ln25l8vb_t3fc17rlm0000gn/T/ipykernel_36824/2387270911.py:36: FutureWarning: Passing literal html to 'read_html' is deprecated and will be removed in a future version. To read from a literal string, wrap it in a 'StringIO' object.\n",
      "  df = pd.read_html(str(table))[0]\n"
     ]
    },
    {
     "name": "stdout",
     "output_type": "stream",
     "text": [
      "Scraping La Liga overall stats...\n"
     ]
    },
    {
     "name": "stderr",
     "output_type": "stream",
     "text": [
      "/var/folders/mp/l7pc43ln25l8vb_t3fc17rlm0000gn/T/ipykernel_36824/2387270911.py:36: FutureWarning: Passing literal html to 'read_html' is deprecated and will be removed in a future version. To read from a literal string, wrap it in a 'StringIO' object.\n",
      "  df = pd.read_html(str(table))[0]\n"
     ]
    },
    {
     "name": "stdout",
     "output_type": "stream",
     "text": [
      "Scraping Bundesliga overall stats...\n"
     ]
    },
    {
     "name": "stderr",
     "output_type": "stream",
     "text": [
      "/var/folders/mp/l7pc43ln25l8vb_t3fc17rlm0000gn/T/ipykernel_36824/2387270911.py:36: FutureWarning: Passing literal html to 'read_html' is deprecated and will be removed in a future version. To read from a literal string, wrap it in a 'StringIO' object.\n",
      "  df = pd.read_html(str(table))[0]\n"
     ]
    },
    {
     "name": "stdout",
     "output_type": "stream",
     "text": [
      "Scraping Serie A overall stats...\n"
     ]
    },
    {
     "name": "stderr",
     "output_type": "stream",
     "text": [
      "/var/folders/mp/l7pc43ln25l8vb_t3fc17rlm0000gn/T/ipykernel_36824/2387270911.py:36: FutureWarning: Passing literal html to 'read_html' is deprecated and will be removed in a future version. To read from a literal string, wrap it in a 'StringIO' object.\n",
      "  df = pd.read_html(str(table))[0]\n"
     ]
    },
    {
     "name": "stdout",
     "output_type": "stream",
     "text": [
      "Scraping Ligue 1 overall stats...\n",
      "Combined DataFrame shape: (2966, 38)\n",
      "  Unnamed: 0_level_0 Unnamed: 1_level_0 Unnamed: 2_level_0 Unnamed: 3_level_0  \\\n",
      "                  Rk             Player             Nation                Pos   \n",
      "0                  1         Max Aarons            eng ENG                 DF   \n",
      "1                  2  Joshua Acheampong            eng ENG                 DF   \n",
      "2                  3        Tyler Adams             us USA                 MF   \n",
      "3                  4   Tosin Adarabioyo            eng ENG                 DF   \n",
      "4                  5      Simon Adingra             ci CIV              FW,MF   \n",
      "\n",
      "  Unnamed: 4_level_0 Unnamed: 5_level_0 Unnamed: 6_level_0 Playing Time  \\\n",
      "               Squad                Age               Born           MP   \n",
      "0        Bournemouth                 24               2000            3   \n",
      "1            Chelsea                 18               2006            4   \n",
      "2        Bournemouth                 25               1999           28   \n",
      "3            Chelsea                 26               1997           22   \n",
      "4           Brighton                 22               2002           29   \n",
      "\n",
      "                ... Per 90 Minutes                                        \\\n",
      "  Starts   Min  ...            G+A  G-PK G+A-PK    xG   xAG xG+xAG  npxG   \n",
      "0      1    86  ...           0.00  0.00   0.00  0.00  0.00   0.00  0.00   \n",
      "1      2   170  ...           0.00  0.00   0.00  0.12  0.00   0.12  0.12   \n",
      "2     21  1965  ...           0.14  0.00   0.14  0.07  0.05   0.12  0.07   \n",
      "3     15  1409  ...           0.13  0.06   0.13  0.06  0.01   0.07  0.06   \n",
      "4     12  1097  ...           0.33  0.16   0.33  0.20  0.20   0.40  0.20   \n",
      "\n",
      "           Unnamed: 36_level_0          League  \n",
      "  npxG+xAG             Matches                  \n",
      "0     0.00             Matches  Premier League  \n",
      "1     0.12             Matches  Premier League  \n",
      "2     0.12             Matches  Premier League  \n",
      "3     0.07             Matches  Premier League  \n",
      "4     0.40             Matches  Premier League  \n",
      "\n",
      "[5 rows x 38 columns]\n"
     ]
    },
    {
     "name": "stderr",
     "output_type": "stream",
     "text": [
      "/var/folders/mp/l7pc43ln25l8vb_t3fc17rlm0000gn/T/ipykernel_36824/2387270911.py:36: FutureWarning: Passing literal html to 'read_html' is deprecated and will be removed in a future version. To read from a literal string, wrap it in a 'StringIO' object.\n",
      "  df = pd.read_html(str(table))[0]\n"
     ]
    }
   ],
   "source": [
    "import pandas as pd\n",
    "import cloudscraper\n",
    "from bs4 import BeautifulSoup, Comment\n",
    "\n",
    "# Initialize scraper to bypass Cloudflare\n",
    "scraper = cloudscraper.create_scraper(\n",
    "    browser={\"browser\": \"chrome\", \"platform\": \"windows\", \"desktop\": True}\n",
    ")\n",
    "\n",
    "BASE_URL = \"https://fbref.com\"\n",
    "LEAGUE_URLS = {\n",
    "    'Premier League': 'https://fbref.com/en/comps/9/stats/Premier-League-Stats',\n",
    "    'La Liga':       'https://fbref.com/en/comps/12/stats/La-Liga-Stats',\n",
    "    'Bundesliga':    'https://fbref.com/en/comps/20/stats/Bundesliga-Stats',\n",
    "    'Serie A':       'https://fbref.com/en/comps/11/stats/Serie-A-Stats',\n",
    "    'Ligue 1':       'https://fbref.com/en/comps/13/stats/Ligue-1-Stats',\n",
    "}\n",
    "all_players_df = pd.DataFrame()\n",
    "\n",
    "def scrape_league_overall(league_name, url):\n",
    "    \"\"\"\n",
    "    Scrapes the main overall stats table for a given league and returns a DataFrame.\n",
    "    \"\"\"\n",
    "    print(f\"Scraping {league_name} overall stats...\")\n",
    "    resp = scraper.get(url)\n",
    "    resp.raise_for_status()\n",
    "    soup = BeautifulSoup(resp.text, 'lxml')\n",
    "\n",
    "    # The overall stats table is inside a commented div with id 'div_stats_standard'\n",
    "    comment = soup.find(string=lambda text: isinstance(text, Comment) and 'div_stats_standard' in text)\n",
    "    if not comment:\n",
    "        raise ValueError(f\"Could not find commented stats for {league_name}\")\n",
    "\n",
    "    comment_soup = BeautifulSoup(comment, 'lxml')\n",
    "    table = comment_soup.find('table')\n",
    "    df = pd.read_html(str(table))[0]\n",
    "\n",
    "    # Annotate with league name\n",
    "    df['League'] = league_name\n",
    "    return df\n",
    "\n",
    "\n",
    "def main():\n",
    "    # Collect DataFrames for each league\n",
    "    df_list = []\n",
    "    for league, url in LEAGUE_URLS.items():\n",
    "        df = scrape_league_overall(league, url)\n",
    "        df_list.append(df)\n",
    "\n",
    "    # Concatenate into a single DataFrame\n",
    "    all_players_df = pd.concat(df_list, ignore_index=True)\n",
    "    print(f\"Combined DataFrame shape: {all_players_df.shape}\")\n",
    "\n",
    "    # Optional: save to CSV\n",
    "    all_players_df.to_csv('top5_leagues_player_stats.csv', index=False)\n",
    "    return all_players_df\n",
    "\n",
    "\n",
    "if __name__ == '__main__':\n",
    "    combined_df = main()\n",
    "    print(combined_df.head())\n"
   ]
  },
  {
   "cell_type": "code",
   "execution_count": 49,
   "metadata": {},
   "outputs": [
    {
     "data": {
      "text/html": [
       "<div>\n",
       "<style scoped>\n",
       "    .dataframe tbody tr th:only-of-type {\n",
       "        vertical-align: middle;\n",
       "    }\n",
       "\n",
       "    .dataframe tbody tr th {\n",
       "        vertical-align: top;\n",
       "    }\n",
       "\n",
       "    .dataframe thead th {\n",
       "        text-align: right;\n",
       "    }\n",
       "</style>\n",
       "<table border=\"1\" class=\"dataframe\">\n",
       "  <thead>\n",
       "    <tr style=\"text-align: right;\">\n",
       "      <th></th>\n",
       "    </tr>\n",
       "  </thead>\n",
       "  <tbody>\n",
       "  </tbody>\n",
       "</table>\n",
       "</div>"
      ],
      "text/plain": [
       "Empty DataFrame\n",
       "Columns: []\n",
       "Index: []"
      ]
     },
     "execution_count": 49,
     "metadata": {},
     "output_type": "execute_result"
    }
   ],
   "source": [
    "all_players_df.head()"
   ]
  },
  {
   "cell_type": "code",
   "execution_count": null,
   "metadata": {},
   "outputs": [],
   "source": []
  }
 ],
 "metadata": {
  "kernelspec": {
   "display_name": "Python 3",
   "language": "python",
   "name": "python3"
  },
  "language_info": {
   "codemirror_mode": {
    "name": "ipython",
    "version": 3
   },
   "file_extension": ".py",
   "mimetype": "text/x-python",
   "name": "python",
   "nbconvert_exporter": "python",
   "pygments_lexer": "ipython3",
   "version": "3.13.0"
  }
 },
 "nbformat": 4,
 "nbformat_minor": 2
}
